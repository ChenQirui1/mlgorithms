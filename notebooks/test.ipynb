{
 "cells": [
  {
   "cell_type": "code",
   "execution_count": null,
   "metadata": {},
   "outputs": [],
   "source": [
    "(-math.tanh(s*(sim+cutoff))+1)/2"
   ]
  },
  {
   "cell_type": "code",
   "execution_count": null,
   "metadata": {},
   "outputs": [],
   "source": [
    "import math\n",
    "import numpy as np\n",
    "def reward_function(params):\n",
    "\n",
    "    waypoints=params[\"waypoints\"]\n",
    "\n",
    "    #hyperparameter\n",
    "    \n",
    "    # look_mode = 'lookbehind'\n",
    "\n",
    "    #scales how close the bot follow the centre line, > more restrict, < less\n",
    "    cos_sim_scaler = 5\n",
    "\n",
    "    #proximity to track, proportion of track in inches\n",
    "    threshold=12.5/15\n",
    "\n",
    "    #half track width is 15in = 0.381m\n",
    "    #car width is 5in = 0.127m\n",
    "    #0.5width-0.5carwidth = 12.5in = 31.75cm = 0.3175m\n",
    "    half_track_width = 0.381\n",
    "\n",
    "    #scale how sharp the proximity cutoff, > more, < less\n",
    "    cliff_scaler = 14 \n",
    "\n",
    "    max_speed =3.1\n",
    "\n",
    "\n",
    "    def lookskip(current_waypoint,step):\n",
    "        # idk precisely why it works, it just works\n",
    "        #retrive the waypoint by step from the closest waypoint(the second one)\n",
    "        if step > 0:\n",
    "            index = abs(current_waypoint[1] + step) % len(waypoints)\n",
    "            \n",
    "        else:\n",
    "            index = -abs(current_waypoint[0] + step) % len(waypoints)\n",
    "    \n",
    "        return np.array(waypoints[index])\n",
    "    \n",
    "    def cosine_similarity(v, w): \n",
    "        return np.dot(v,w)/(np.linalg.norm(v)*np.linalg.norm(w)+1e-5)\n",
    "        \n",
    "    def quadrant(theta):\n",
    "        if theta<0: \n",
    "            theta=theta+2*math.pi\n",
    "        return [math.cos(theta), math.sin(theta)]\n",
    "        \n",
    "    def score(x,s):\n",
    "        if x<0:\n",
    "            return 1e-5\n",
    "        else:\n",
    "            return x**s\n",
    "        \n",
    "    def tracklimit_score(x):\n",
    "        if x < threshold:\n",
    "            return -((1.2*x)**cliff_scaler)+1\n",
    "        else:\n",
    "            return 0 \n",
    "\n",
    "    theta = params[\"heading\"]/180*math.pi\n",
    "\n",
    "    car_dir_vect = np.array(quadrant(theta))\n",
    "\n",
    "    # if look_mode == 'lookahead':\n",
    "    #     closest_coords = lookskip(params[\"closest_waypoints\"])\n",
    "    # else:\n",
    "    #     closest_coords = lookskip(params[\"closest_waypoints\"])\n",
    "        \n",
    "    track_dir_vect = lookskip(params[\"closest_waypoints\"],2) - lookskip(params[\"closest_waypoints\"],-1)\n",
    "    \n",
    "    # track_dir_vect = closest_coords[1] - closest_coords[0]\n",
    "    \n",
    "    x = cosine_similarity(track_dir_vect, car_dir_vect)\n",
    "    reward_score = score(x,cos_sim_scaler)\n",
    "\n",
    "    #multiply reward score by proportion of max speed\n",
    "   \n",
    "    #add a cliff to drop off reward score once car has passed 12.5in from center. i.e. threshold is 12.5/15 of 1 side of the track \n",
    "\n",
    "    proportion_distance_from_center = params[\"distance_from_center\"]/half_track_width\n",
    "    \n",
    "    reward_score = reward_score*tracklimit_score(proportion_distance_from_center)*(params[\"speed\"]/max_speed)\n",
    "    if params[\"is_offtrack\"]:\n",
    "        reward_score = 1e-5\n",
    "    else:\n",
    "        reward_score *= 1\n",
    "    return reward_score"
   ]
  },
  {
   "cell_type": "code",
   "execution_count": null,
   "metadata": {},
   "outputs": [],
   "source": [
    "def reward_function(params):\n",
    "    waypoints = params['waypoints']\n",
    "\n",
    "    #hyperparameter\n",
    "    s = 6 # scales the tanh activation, s set of {0.,R} \n",
    "\n",
    "    cutoff = 0 #point where x=0 (transition point) for the point to go from + to - \n",
    "\n",
    "    def lookskip(current_waypoint,step):\n",
    "        # idk precisely why it works, it just works\n",
    "        #retrive the waypoint by step from the closest waypoint(the second one)\n",
    "\n",
    "        last_waypoint_index = len(waypoints)-1\n",
    "\n",
    "        diff =  current_waypoint[1]+step - last_waypoint_index\n",
    "\n",
    "        return np.array(waypoints[diff-1])\n",
    "    \n",
    "    def cosine_similarity(v, w): \n",
    "        return np.dot(v,w)/(np.linalg.norm(v)*np.linalg.norm(w)+1e-5)\n",
    "\n",
    "\n",
    "\n",
    "    coord1 = lookskip(params['closest_waypoints'],3)\n",
    "    coord2 = lookskip(params['closest_waypoints'],5)\n",
    "    coord3 =  lookskip(params['closest_waypoints'],7)\n",
    "\n",
    "\n",
    "    #vec AB = B - A\n",
    "    vec1 = coord1 - coord2\n",
    "    vec2 = coord3 - coord2\n",
    "\n",
    "    # if close to -1, opposite vectors(straight line)\n",
    "    sim = cosine_similarity(vec1,vec2)\n",
    "\n",
    "    if params['is_offtrack']:\n",
    "        reward = 0\n",
    "    else:\n",
    "        if params[\"is_left_of_center\"]:\n",
    "            #if left, the cosine will get rewarded if it is close to -1(meaning straight line)\n",
    "            #if direction wrong, will result in negative, can check graph e.g. -tanh(6(x+0.5))\n",
    "            reward = -math.tanh(s(sim+cutoff))\n",
    "        else:\n",
    "            #if right, the cosine will get rewarded if it is close to 0(meaning curve line)\n",
    "            reward = math.tanh(s(sim+cutoff))\n",
    "\n",
    "    return reward"
   ]
  },
  {
   "cell_type": "code",
   "execution_count": 63,
   "metadata": {},
   "outputs": [],
   "source": [
    "import numpy as np\n",
    "waypoints = [(0,0),(1,1),(2,2),(3,3),(4,4),(5,5),(6,6),(7,7)]\n",
    "current_waypoints = [1,2]\n",
    "def lookskip(current_waypoint,step):\n",
    "    # idk precisely why it works, it just works\n",
    "    #retrive the waypoint by step from the closest waypoint(the second one)\n",
    "\n",
    "    if step > 0:\n",
    "        index = abs(current_waypoint[1] + step) % len(waypoints)\n",
    "        \n",
    "    else:\n",
    "        index = -abs(current_waypoint[0] + step) % len(waypoints)\n",
    "        \n",
    "\n",
    "\n",
    "    return np.array(waypoints[index])"
   ]
  },
  {
   "cell_type": "code",
   "execution_count": 72,
   "metadata": {},
   "outputs": [
    {
     "data": {
      "text/plain": [
       "array([3, 3])"
      ]
     },
     "execution_count": 72,
     "metadata": {},
     "output_type": "execute_result"
    }
   ],
   "source": [
    "lookskip(current_waypoints,-6)"
   ]
  },
  {
   "cell_type": "code",
   "execution_count": 52,
   "metadata": {},
   "outputs": [
    {
     "data": {
      "text/plain": [
       "7"
      ]
     },
     "execution_count": 52,
     "metadata": {},
     "output_type": "execute_result"
    }
   ],
   "source": [
    "15%8"
   ]
  },
  {
   "cell_type": "code",
   "execution_count": null,
   "metadata": {},
   "outputs": [],
   "source": []
  }
 ],
 "metadata": {
  "kernelspec": {
   "display_name": "ds",
   "language": "python",
   "name": "python3"
  },
  "language_info": {
   "codemirror_mode": {
    "name": "ipython",
    "version": 3
   },
   "file_extension": ".py",
   "mimetype": "text/x-python",
   "name": "python",
   "nbconvert_exporter": "python",
   "pygments_lexer": "ipython3",
   "version": "3.10.9"
  },
  "orig_nbformat": 4
 },
 "nbformat": 4,
 "nbformat_minor": 2
}
