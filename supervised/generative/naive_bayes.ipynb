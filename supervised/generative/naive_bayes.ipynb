{
 "cells": [
  {
   "cell_type": "code",
   "execution_count": null,
   "metadata": {},
   "outputs": [],
   "source": []
  }
 ],
 "metadata": {
  "kernelspec": {
   "display_name": "ds",
   "language": "python",
   "name": "python3"
  },
  "language_info": {
   "name": "python",
   "version": "3.10.9"
  },
  "orig_nbformat": 4,
  "vscode": {
   "interpreter": {
    "hash": "04a67b237538f62ef7d200ccaa82981b3d48d8a73fb69c80bcfa1c0f2261f4a0"
   }
  }
 },
 "nbformat": 4,
 "nbformat_minor": 2
}
